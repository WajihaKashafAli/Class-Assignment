{
 "cells": [
  {
   "cell_type": "markdown",
   "metadata": {},
   "source": [
    "# QUESTION:01"
   ]
  },
  {
   "cell_type": "code",
   "execution_count": 12,
   "metadata": {},
   "outputs": [
    {
     "name": "stdout",
     "output_type": "stream",
     "text": [
      "Enter num1: 9\n",
      "Enter num2: 24\n",
      "after addition: 33\n"
     ]
    }
   ],
   "source": [
    "num1 = int(input(\"Enter num1: \"))\n",
    "num2 = int(input(\"Enter num2: \"))\n",
    "addition = (num1 + num2)\n",
    "\n",
    "print(\"after addition: \" + str( addition))"
   ]
  },
  {
   "cell_type": "code",
   "execution_count": 14,
   "metadata": {},
   "outputs": [
    {
     "name": "stdout",
     "output_type": "stream",
     "text": [
      "Enter num1: 24\n",
      "Enter num2: 9\n",
      "after addition: 15\n"
     ]
    }
   ],
   "source": [
    "num1 = int(input(\"Enter num1: \"))\n",
    "num2 = int(input(\"Enter num2: \"))\n",
    "subtraction = (num1 - num2)\n",
    "print(\"after addition: \" + str(subtraction))"
   ]
  },
  {
   "cell_type": "code",
   "execution_count": 15,
   "metadata": {},
   "outputs": [
    {
     "name": "stdout",
     "output_type": "stream",
     "text": [
      "Enter num1: 24\n",
      "Enter num2: 9\n",
      "after addition: 2.6666666666666665\n"
     ]
    }
   ],
   "source": [
    "num1 = int(input(\"Enter num1: \"))\n",
    "num2 = int(input(\"Enter num2: \"))\n",
    "divide = (num1 / num2)\n",
    "print(\"after addition: \" + str(divide))"
   ]
  },
  {
   "cell_type": "code",
   "execution_count": 16,
   "metadata": {},
   "outputs": [
    {
     "name": "stdout",
     "output_type": "stream",
     "text": [
      "Enter num1: 24\n",
      "Enter num2: 9\n",
      "after addition: 216\n"
     ]
    }
   ],
   "source": [
    "num1 = int(input(\"Enter num1: \"))\n",
    "num2 = int(input(\"Enter num2: \"))\n",
    "multiple = (num1 * num2)\n",
    "print(\"after addition: \" + str(multiple))"
   ]
  },
  {
   "cell_type": "code",
   "execution_count": 21,
   "metadata": {},
   "outputs": [
    {
     "name": "stdout",
     "output_type": "stream",
     "text": [
      "Enter num1: 24\n",
      "Enter num2: 9\n",
      "after addition: 2641807540224\n"
     ]
    }
   ],
   "source": [
    "num1 = int(input(\"Enter num1: \"))\n",
    "num2 = int(input(\"Enter num2: \"))\n",
    "power = (num1 ** num2)\n",
    "print(\"after addition: \" + str(power))"
   ]
  },
  {
   "cell_type": "code",
   "execution_count": 20,
   "metadata": {},
   "outputs": [
    {
     "name": "stdout",
     "output_type": "stream",
     "text": [
      "Enter num1: 24\n",
      "Enter num2: 9\n",
      " addition= 33 \n",
      " subtraction= 15 \n",
      " divide= 2.6666666666666665 \n",
      " multiple= 216 \n",
      " power= 2641807540224\n"
     ]
    }
   ],
   "source": [
    "num1 = int(input(\"Enter num1: \"))\n",
    "num2 = int(input(\"Enter num2: \"))\n",
    "addition = (num1 + num2)\n",
    "subtraction = (num1 - num2)\n",
    "divide = (num1 / num2)\n",
    "multiple = (num1 * num2)\n",
    "power = (num1 ** num2)\n",
    "print(\" \" \"addition=\",addition,\"\\n\",\"subtraction=\",subtraction,\"\\n\",\"divide=\",divide,\"\\n\",\"multiple=\",multiple,\n",
    "      \"\\n\",\"power=\",power)"
   ]
  },
  {
   "cell_type": "markdown",
   "metadata": {},
   "source": [
    "# QUESTION:02 ¶"
   ]
  },
  {
   "cell_type": "markdown",
   "metadata": {},
   "source": [
    "# concatenation"
   ]
  },
  {
   "cell_type": "code",
   "execution_count": 44,
   "metadata": {},
   "outputs": [
    {
     "name": "stdout",
     "output_type": "stream",
     "text": [
      "HelloPAKISTAN\n"
     ]
    }
   ],
   "source": [
    "greeting = \"Hello\"\n",
    "country_name = \"PAKISTAN\"\n",
    "greet_country = greeting + country_name\n",
    "print(greet_country)"
   ]
  },
  {
   "cell_type": "code",
   "execution_count": 43,
   "metadata": {},
   "outputs": [
    {
     "name": "stdout",
     "output_type": "stream",
     "text": [
      "Hello PAKISTAN\n"
     ]
    }
   ],
   "source": [
    "greeting = \"Hello\"\n",
    "country_name = \"PAKISTAN\"\n",
    "greet_country = greeting + \" \" + country_name\n",
    "print(greet_country)"
   ]
  },
  {
   "cell_type": "code",
   "execution_count": 24,
   "metadata": {},
   "outputs": [
    {
     "name": "stdout",
     "output_type": "stream",
     "text": [
      "Enter your country name: Pakistan\n",
      "Hello Pakistan\n"
     ]
    }
   ],
   "source": [
    "greeting = \"Hello\"\n",
    "country_name = input(\"Enter your country name: \")\n",
    "greet_country = greeting + \" \" + country_name\n",
    "print(greet_country)"
   ]
  },
  {
   "cell_type": "markdown",
   "metadata": {},
   "source": [
    "# QUESTION:03"
   ]
  },
  {
   "cell_type": "markdown",
   "metadata": {},
   "source": [
    "# Percentage calculate"
   ]
  },
  {
   "cell_type": "code",
   "execution_count": 25,
   "metadata": {},
   "outputs": [
    {
     "name": "stdout",
     "output_type": "stream",
     "text": [
      "Enter your Name: Wajiha Kashaf\n",
      "Enter your Father's Name: Alamgir Malick\n",
      "Enter your Roll Number: 1249\n",
      "Enter PF marks: 88\n",
      "Enter DS marks: 86\n",
      "Enter OOP marks: 91\n",
      "Enter DLD marks: 77\n",
      "Total marks = 342\n",
      "Grade: A+1\n"
     ]
    }
   ],
   "source": [
    "name = input(\"Enter your Name: \")\n",
    "father_name = input(\"Enter your Father's Name: \")\n",
    "roll_number = input(\"Enter your Roll Number: \")\n",
    "\n",
    "subject_1=int(input(\"Enter PF marks: \"))\n",
    "subject_2=int(input(\"Enter DS marks: \"))\n",
    "subject_3=int(input(\"Enter OOP marks: \"))\n",
    "subject_4=int(input(\"Enter DLD marks: \"))\n",
    "\n",
    "Addition=(subject_1 + subject_2 + subject_3 + subject_4)\n",
    "print(\"Total marks =\",Addition)\n",
    "\n",
    "total_no = 400\n",
    "percentage = (Addition / total_no)*100\n",
    "if (percentage >=86 or percentage <= 100):\n",
    "    print(\"Grade: A+1\")\n",
    "    \n",
    "elif (percentage >=75 or percentage <=85):\n",
    "    print(\"Grade: A\")\n",
    "    \n",
    "elif (percentage >=65 or percentage <= 74):\n",
    "    print(\"Grade: B\")\n",
    "    \n",
    "elif (percentage >=54 or percentage <= 64):\n",
    "    print(\"Grade: C\")\n",
    "    \n",
    "elif (percentage >=43 or percentage <= 53):\n",
    "    print(\"Grade: D\")\n",
    "    \n",
    "else:\n",
    "    print(\"Fail\")"
   ]
  },
  {
   "cell_type": "markdown",
   "metadata": {},
   "source": [
    "# QUESTION:04"
   ]
  },
  {
   "cell_type": "markdown",
   "metadata": {},
   "source": [
    "# IF ELSE"
   ]
  },
  {
   "cell_type": "code",
   "execution_count": 11,
   "metadata": {},
   "outputs": [
    {
     "name": "stdout",
     "output_type": "stream",
     "text": [
      "Please enter your Nationality: pakistani\n",
      "you are pakistani\n",
      "Enter your age: 21\n",
      "you can cast your vote\n"
     ]
    }
   ],
   "source": [
    "nationality = (input(\"Please enter your Nationality: \"))\n",
    "if(nationality == \"Pakistani\" or nationality == \"pakistani\"):\n",
    "    print(\"you are pakistani\")\n",
    "    \n",
    "    age = int(input(\"Enter your age: \"))\n",
    "    if (age >= 18):\n",
    "        print(\"you can cast your vote\")\n",
    "\n",
    "    elif(age <=18):\n",
    "        print(\"GOOD BYE you can cast your vote at the age of 18\")\n",
    "    \n",
    "elif(nationality != \"Pakistani\" or nationality != \"pakistani\"):\n",
    "    print(\"you are not pakistani you can't cast the vote\")"
   ]
  },
  {
   "cell_type": "code",
   "execution_count": 9,
   "metadata": {},
   "outputs": [
    {
     "name": "stdout",
     "output_type": "stream",
     "text": [
      "Please enter your Nationality: Germani\n",
      "you are not pakistani you can't cast the vote\n"
     ]
    }
   ],
   "source": [
    "nationality = (input(\"Please enter your Nationality: \"))\n",
    "if(nationality == \"Pakistani\" or nationality == \"pakistani\"):\n",
    "    print(\"you are pakistani\")\n",
    "    \n",
    "    age = int(input(\"Enter your age: \"))\n",
    "    if (age >= 18):\n",
    "        print(\"you can cast your vote\")\n",
    "\n",
    "    elif(age <=18):\n",
    "        print(\"GOOD BYE you can cast your vote at the age of 18\")\n",
    "    \n",
    "elif(nationality != \"Pakistani\" or nationality != \"pakistani\"):\n",
    "    print(\"you are not pakistani you can't cast the vote\")"
   ]
  },
  {
   "cell_type": "code",
   "execution_count": 10,
   "metadata": {},
   "outputs": [
    {
     "name": "stdout",
     "output_type": "stream",
     "text": [
      "Please enter your Nationality: Pakistani\n",
      "you are pakistani\n",
      "Enter your age: 15\n",
      "GOOD BYE you can cast your vote at the age of 18\n"
     ]
    }
   ],
   "source": [
    "nationality = (input(\"Please enter your Nationality: \"))\n",
    "if(nationality == \"Pakistani\" or nationality == \"pakistani\"):\n",
    "    print(\"you are pakistani\")\n",
    "    \n",
    "    age = int(input(\"Enter your age: \"))\n",
    "    if (age >= 18):\n",
    "        print(\"you can cast your vote\")\n",
    "\n",
    "    elif(age <=18):\n",
    "        print(\"GOOD BYE you can cast your vote at the age of 18\")\n",
    "    \n",
    "elif(nationality != \"Pakistani\" or nationality != \"pakistani\"):\n",
    "    print(\"you are not pakistani you can't cast the vote\")"
   ]
  }
 ],
 "metadata": {
  "kernelspec": {
   "display_name": "Python 3",
   "language": "python",
   "name": "python3"
  },
  "language_info": {
   "codemirror_mode": {
    "name": "ipython",
    "version": 3
   },
   "file_extension": ".py",
   "mimetype": "text/x-python",
   "name": "python",
   "nbconvert_exporter": "python",
   "pygments_lexer": "ipython3",
   "version": "3.8.5"
  }
 },
 "nbformat": 4,
 "nbformat_minor": 4
}
